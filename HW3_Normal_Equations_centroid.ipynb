{
 "cells": [
  {
   "cell_type": "code",
   "execution_count": 1,
   "metadata": {},
   "outputs": [],
   "source": [
    "import numpy as np\n",
    "from scipy import linalg"
   ]
  },
  {
   "cell_type": "code",
   "execution_count": 5,
   "metadata": {},
   "outputs": [
    {
     "name": "stdout",
     "output_type": "stream",
     "text": [
      "y=\n",
      " [[15.]\n",
      " [28.]\n",
      " [42.]\n",
      " [64.]\n",
      " [50.]\n",
      " [90.]\n",
      " [58.]\n",
      " [ 8.]\n",
      " [54.]]\n",
      "\n",
      "x=\n",
      " [[ 1.  2.]\n",
      " [ 1.  3.]\n",
      " [ 1.  5.]\n",
      " [ 1. 13.]\n",
      " [ 1.  8.]\n",
      " [ 1. 16.]\n",
      " [ 1. 11.]\n",
      " [ 1.  1.]\n",
      " [ 1.  9.]]\n",
      "\n",
      "xT =\n",
      " [[ 1.  1.  1.  1.  1.  1.  1.  1.  1.]\n",
      " [ 2.  3.  5. 13.  8. 16. 11.  1.  9.]]\n",
      "\n",
      "xT.x=\n",
      " [[  9.  68.]\n",
      " [ 68. 730.]]\n",
      "\n",
      "(xT.x)^-1=\n",
      " [[ 0.37512847 -0.03494347]\n",
      " [-0.03494347  0.00462487]]\n",
      "\n",
      "(xT.x)^-1.xT=\n",
      " [[ 0.30524152  0.27029805  0.2004111  -0.07913669  0.09558068 -0.18396711\n",
      "  -0.00924974  0.34018499  0.0606372 ]\n",
      " [-0.02569373 -0.02106886 -0.01181912  0.02517986  0.0020555   0.03905447\n",
      "   0.01593011 -0.0303186   0.00668037]]\n",
      "\n",
      "(xT.x)^-1.xT.y=\n",
      " [[9.18088386]\n",
      " [4.7995889 ]]\n"
     ]
    }
   ],
   "source": [
    "y = np.array([[15],[28],[42],[64],[50],[90],[58],[8],[54]], dtype = np.float)\n",
    "x = np.array([[1,2],[1,3],[1,5],[1,13],[1,8],[1,16],[1,11],[1,1],[1,9]], dtype = np.float)\n",
    "print(\"y=\\n\",y)\n",
    "print(\"\\nx=\\n\",x)\n",
    "\n",
    "xT = np.transpose(x)\n",
    "print(\"\\nxT =\\n\",xT)\n",
    "\n",
    "xTx = np.array(xT.dot(x))\n",
    "print(\"\\nxT.x=\\n\",xTx)\n",
    "\n",
    "xTx_1 = np.linalg.inv(xTx)\n",
    "print(\"\\n(xT.x)^-1=\\n\",xTx_1)\n",
    "\n",
    "xTx_1_xT = np.array(xTx_1.dot(xT))\n",
    "print(\"\\n(xT.x)^-1.xT=\\n\",xTx_1_xT)\n",
    "\n",
    "xTx_1_xT_y = np.array(xTx_1_xT.dot(y))\n",
    "print(\"\\n(xT.x)^-1.xT.y=\\n\",xTx_1_xT_y)"
   ]
  },
  {
   "cell_type": "code",
   "execution_count": null,
   "metadata": {},
   "outputs": [],
   "source": []
  }
 ],
 "metadata": {
  "kernelspec": {
   "display_name": "Python 3",
   "language": "python",
   "name": "python3"
  },
  "language_info": {
   "codemirror_mode": {
    "name": "ipython",
    "version": 3
   },
   "file_extension": ".py",
   "mimetype": "text/x-python",
   "name": "python",
   "nbconvert_exporter": "python",
   "pygments_lexer": "ipython3",
   "version": "3.5.6"
  }
 },
 "nbformat": 4,
 "nbformat_minor": 2
}
